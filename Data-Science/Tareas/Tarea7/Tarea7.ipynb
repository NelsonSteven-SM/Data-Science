{
 "cells": [
  {
   "cell_type": "markdown",
   "metadata": {},
   "source": [
    "## Tarea 7 del curso CM-072\n",
    "\n",
    "* Nombre y apellidos: Nelson Steven Sanabio Maldonado\n",
    "* Fecha de presentación: 17 de octubre.\n",
    "\n",
    "\n",
    "\n",
    "LendingClub es una compañía de préstamos *peer-to-peer* que conecta directamente a los prestatarios con potenciales prestamistas/inversionistas.\n",
    "\n",
    "Construirás un modelo de clasificación para predecir si un préstamo realizado a través del LendingClub tiene probabilidad de no ser pagado."
   ]
  },
  {
   "cell_type": "code",
   "execution_count": 1,
   "metadata": {},
   "outputs": [
    {
     "data": {
      "text/html": [
       "<div>\n",
       "<style scoped>\n",
       "    .dataframe tbody tr th:only-of-type {\n",
       "        vertical-align: middle;\n",
       "    }\n",
       "\n",
       "    .dataframe tbody tr th {\n",
       "        vertical-align: top;\n",
       "    }\n",
       "\n",
       "    .dataframe thead th {\n",
       "        text-align: right;\n",
       "    }\n",
       "</style>\n",
       "<table border=\"1\" class=\"dataframe\">\n",
       "  <thead>\n",
       "    <tr style=\"text-align: right;\">\n",
       "      <th></th>\n",
       "      <th>id</th>\n",
       "      <th>member_id</th>\n",
       "      <th>loan_amnt</th>\n",
       "      <th>funded_amnt</th>\n",
       "      <th>funded_amnt_inv</th>\n",
       "      <th>term</th>\n",
       "      <th>int_rate</th>\n",
       "      <th>installment</th>\n",
       "      <th>grade</th>\n",
       "      <th>sub_grade</th>\n",
       "      <th>...</th>\n",
       "      <th>sub_grade_num</th>\n",
       "      <th>delinq_2yrs_zero</th>\n",
       "      <th>pub_rec_zero</th>\n",
       "      <th>collections_12_mths_zero</th>\n",
       "      <th>short_emp</th>\n",
       "      <th>payment_inc_ratio</th>\n",
       "      <th>final_d</th>\n",
       "      <th>last_delinq_none</th>\n",
       "      <th>last_record_none</th>\n",
       "      <th>last_major_derog_none</th>\n",
       "    </tr>\n",
       "  </thead>\n",
       "  <tbody>\n",
       "    <tr>\n",
       "      <th>0</th>\n",
       "      <td>1077501</td>\n",
       "      <td>1296599</td>\n",
       "      <td>5000</td>\n",
       "      <td>5000</td>\n",
       "      <td>4975</td>\n",
       "      <td>36 months</td>\n",
       "      <td>10.65</td>\n",
       "      <td>162.87</td>\n",
       "      <td>B</td>\n",
       "      <td>B2</td>\n",
       "      <td>...</td>\n",
       "      <td>0.4</td>\n",
       "      <td>1.0</td>\n",
       "      <td>1.0</td>\n",
       "      <td>1.0</td>\n",
       "      <td>0</td>\n",
       "      <td>8.14350</td>\n",
       "      <td>20141201T000000</td>\n",
       "      <td>1</td>\n",
       "      <td>1</td>\n",
       "      <td>1</td>\n",
       "    </tr>\n",
       "    <tr>\n",
       "      <th>1</th>\n",
       "      <td>1077430</td>\n",
       "      <td>1314167</td>\n",
       "      <td>2500</td>\n",
       "      <td>2500</td>\n",
       "      <td>2500</td>\n",
       "      <td>60 months</td>\n",
       "      <td>15.27</td>\n",
       "      <td>59.83</td>\n",
       "      <td>C</td>\n",
       "      <td>C4</td>\n",
       "      <td>...</td>\n",
       "      <td>0.8</td>\n",
       "      <td>1.0</td>\n",
       "      <td>1.0</td>\n",
       "      <td>1.0</td>\n",
       "      <td>1</td>\n",
       "      <td>2.39320</td>\n",
       "      <td>20161201T000000</td>\n",
       "      <td>1</td>\n",
       "      <td>1</td>\n",
       "      <td>1</td>\n",
       "    </tr>\n",
       "    <tr>\n",
       "      <th>2</th>\n",
       "      <td>1077175</td>\n",
       "      <td>1313524</td>\n",
       "      <td>2400</td>\n",
       "      <td>2400</td>\n",
       "      <td>2400</td>\n",
       "      <td>36 months</td>\n",
       "      <td>15.96</td>\n",
       "      <td>84.33</td>\n",
       "      <td>C</td>\n",
       "      <td>C5</td>\n",
       "      <td>...</td>\n",
       "      <td>1.0</td>\n",
       "      <td>1.0</td>\n",
       "      <td>1.0</td>\n",
       "      <td>1.0</td>\n",
       "      <td>0</td>\n",
       "      <td>8.25955</td>\n",
       "      <td>20141201T000000</td>\n",
       "      <td>1</td>\n",
       "      <td>1</td>\n",
       "      <td>1</td>\n",
       "    </tr>\n",
       "    <tr>\n",
       "      <th>3</th>\n",
       "      <td>1076863</td>\n",
       "      <td>1277178</td>\n",
       "      <td>10000</td>\n",
       "      <td>10000</td>\n",
       "      <td>10000</td>\n",
       "      <td>36 months</td>\n",
       "      <td>13.49</td>\n",
       "      <td>339.31</td>\n",
       "      <td>C</td>\n",
       "      <td>C1</td>\n",
       "      <td>...</td>\n",
       "      <td>0.2</td>\n",
       "      <td>1.0</td>\n",
       "      <td>1.0</td>\n",
       "      <td>1.0</td>\n",
       "      <td>0</td>\n",
       "      <td>8.27585</td>\n",
       "      <td>20141201T000000</td>\n",
       "      <td>0</td>\n",
       "      <td>1</td>\n",
       "      <td>1</td>\n",
       "    </tr>\n",
       "    <tr>\n",
       "      <th>4</th>\n",
       "      <td>1075269</td>\n",
       "      <td>1311441</td>\n",
       "      <td>5000</td>\n",
       "      <td>5000</td>\n",
       "      <td>5000</td>\n",
       "      <td>36 months</td>\n",
       "      <td>7.90</td>\n",
       "      <td>156.46</td>\n",
       "      <td>A</td>\n",
       "      <td>A4</td>\n",
       "      <td>...</td>\n",
       "      <td>0.8</td>\n",
       "      <td>1.0</td>\n",
       "      <td>1.0</td>\n",
       "      <td>1.0</td>\n",
       "      <td>0</td>\n",
       "      <td>5.21533</td>\n",
       "      <td>20141201T000000</td>\n",
       "      <td>1</td>\n",
       "      <td>1</td>\n",
       "      <td>1</td>\n",
       "    </tr>\n",
       "  </tbody>\n",
       "</table>\n",
       "<p>5 rows × 68 columns</p>\n",
       "</div>"
      ],
      "text/plain": [
       "        id  member_id  loan_amnt  funded_amnt  funded_amnt_inv        term  \\\n",
       "0  1077501    1296599       5000         5000             4975   36 months   \n",
       "1  1077430    1314167       2500         2500             2500   60 months   \n",
       "2  1077175    1313524       2400         2400             2400   36 months   \n",
       "3  1076863    1277178      10000        10000            10000   36 months   \n",
       "4  1075269    1311441       5000         5000             5000   36 months   \n",
       "\n",
       "   int_rate  installment grade sub_grade          ...          sub_grade_num  \\\n",
       "0     10.65       162.87     B        B2          ...                    0.4   \n",
       "1     15.27        59.83     C        C4          ...                    0.8   \n",
       "2     15.96        84.33     C        C5          ...                    1.0   \n",
       "3     13.49       339.31     C        C1          ...                    0.2   \n",
       "4      7.90       156.46     A        A4          ...                    0.8   \n",
       "\n",
       "  delinq_2yrs_zero pub_rec_zero  collections_12_mths_zero short_emp  \\\n",
       "0              1.0          1.0                       1.0         0   \n",
       "1              1.0          1.0                       1.0         1   \n",
       "2              1.0          1.0                       1.0         0   \n",
       "3              1.0          1.0                       1.0         0   \n",
       "4              1.0          1.0                       1.0         0   \n",
       "\n",
       "  payment_inc_ratio          final_d last_delinq_none last_record_none  \\\n",
       "0           8.14350  20141201T000000                1                1   \n",
       "1           2.39320  20161201T000000                1                1   \n",
       "2           8.25955  20141201T000000                1                1   \n",
       "3           8.27585  20141201T000000                0                1   \n",
       "4           5.21533  20141201T000000                1                1   \n",
       "\n",
       "  last_major_derog_none  \n",
       "0                     1  \n",
       "1                     1  \n",
       "2                     1  \n",
       "3                     1  \n",
       "4                     1  \n",
       "\n",
       "[5 rows x 68 columns]"
      ]
     },
     "execution_count": 1,
     "metadata": {},
     "output_type": "execute_result"
    }
   ],
   "source": [
    "import numpy as np\n",
    "import pandas as pd\n",
    "import sys\n",
    "import matplotlib.pyplot as plt\n",
    "%matplotlib inline\n",
    "# Cargar la data\n",
    "loans = pd.read_csv(\"lending-club-data.csv\", low_memory=False)\n",
    "loans.head()"
   ]
  },
  {
   "cell_type": "markdown",
   "metadata": {},
   "source": [
    "1 . Carga en una variable de nombre `todo_columnas` el nombre de todas las columnas del conjunto de datos."
   ]
  },
  {
   "cell_type": "code",
   "execution_count": 2,
   "metadata": {},
   "outputs": [
    {
     "name": "stdout",
     "output_type": "stream",
     "text": [
      "Las columnas son :\n",
      " ['id', 'member_id', 'loan_amnt', 'funded_amnt', 'funded_amnt_inv', 'term', 'int_rate', 'installment', 'grade', 'sub_grade', 'emp_title', 'emp_length', 'home_ownership', 'annual_inc', 'is_inc_v', 'issue_d', 'loan_status', 'pymnt_plan', 'url', 'desc', 'purpose', 'title', 'zip_code', 'addr_state', 'dti', 'delinq_2yrs', 'earliest_cr_line', 'inq_last_6mths', 'mths_since_last_delinq', 'mths_since_last_record', 'open_acc', 'pub_rec', 'revol_bal', 'revol_util', 'total_acc', 'initial_list_status', 'out_prncp', 'out_prncp_inv', 'total_pymnt', 'total_pymnt_inv', 'total_rec_prncp', 'total_rec_int', 'total_rec_late_fee', 'recoveries', 'collection_recovery_fee', 'last_pymnt_d', 'last_pymnt_amnt', 'next_pymnt_d', 'last_credit_pull_d', 'collections_12_mths_ex_med', 'mths_since_last_major_derog', 'policy_code', 'not_compliant', 'status', 'inactive_loans', 'bad_loans', 'emp_length_num', 'grade_num', 'sub_grade_num', 'delinq_2yrs_zero', 'pub_rec_zero', 'collections_12_mths_zero', 'short_emp', 'payment_inc_ratio', 'final_d', 'last_delinq_none', 'last_record_none', 'last_major_derog_none']\n"
     ]
    }
   ],
   "source": [
    "# Almacenando los nombres de las columnas en la variable \"todo_columnas\"\n",
    "todo_columnas = loans.columns.values.tolist()\n",
    "print(\"Las columnas son :\\n\",todo_columnas)"
   ]
  },
  {
   "cell_type": "markdown",
   "metadata": {},
   "source": [
    "2 . La columna que contiene la información que queremos predecir se llama `malos_prestamos`. En esta columna, el valor 1 significa un préstamo riesgoso (malo), mientras que 0 significa un préstamos seguro.\n",
    "\n",
    "Para hacer el trabajo más intuitivo, crea una nueva columna `prestamos_seguros` con el siguiente valor:\n",
    "\n",
    "* +1 si es un préstamo seguro\n",
    "* -1 si es un préstamos riesgoso (malo)"
   ]
  },
  {
   "cell_type": "code",
   "execution_count": 3,
   "metadata": {},
   "outputs": [
    {
     "data": {
      "text/plain": [
       "0    1\n",
       "1   -1\n",
       "2    1\n",
       "3    1\n",
       "4    1\n",
       "Name: prestamos_seguros, dtype: int64"
      ]
     },
     "execution_count": 3,
     "metadata": {},
     "output_type": "execute_result"
    }
   ],
   "source": [
    "# Los 'malos_prestamos' equivale al nombre \"bad_loans\"\n",
    "prestamos_seguros = 1-2*loans[\"bad_loans\"]\n",
    "loans=loans.drop(['bad_loans'],axis=1)\n",
    "loans=pd.concat([loans,prestamos_seguros],axis=1)\n",
    "loans.rename(columns = {'bad_loans':'prestamos_seguros'}, inplace=True)\n",
    "loans['prestamos_seguros'].head()"
   ]
  },
  {
   "cell_type": "markdown",
   "metadata": {},
   "source": [
    "3 . Calcula la distribución en porcentaje de préstamos malos y préstamos buenos (debe sumar 100%)."
   ]
  },
  {
   "cell_type": "code",
   "execution_count": 4,
   "metadata": {},
   "outputs": [
    {
     "name": "stdout",
     "output_type": "stream",
     "text": [
      "Porcentajes : \n",
      " Prestamos malos:\t23150 \t 0.18881466800427382\n",
      " Prestamos Buenos : \t99457 \t 0.8111853319957262\n"
     ]
    }
   ],
   "source": [
    "prestamos_total = pd.notnull(loans.prestamos_seguros).values.sum()\n",
    "\n",
    "prestamos_malos = loans.loc[loans['prestamos_seguros']==-1]\n",
    "\n",
    "prestamos_buenos=loans.loc[loans['prestamos_seguros']==1]\n",
    "\n",
    "prestamos_malos_porcentaje = (loans['prestamos_seguros']==-1).sum()/prestamos_total \n",
    "prestamos_buenos_porcentaje = 1-prestamos_malos_porcentaje\n",
    "\n",
    "print(\"Porcentajes : \\n Prestamos malos:\\t{} \\t {}\\n Prestamos Buenos : \\t{} \\t {}\".format(len(prestamos_malos),prestamos_malos_porcentaje,len(prestamos_buenos),prestamos_buenos_porcentaje))"
   ]
  },
  {
   "cell_type": "markdown",
   "metadata": {},
   "source": [
    "4 . Una manera de abordar conjuntos de datos desbalanceados es con un submuestreo  de la clase más grande hasta que la distribución de clases sea mitad y mitad. Vamos a realizar un submuestreo de los préstamos buenos para balancear nuestro conjunto de datos. Ello significa que vamos a descartar muchas observaciones. \n",
    "\n",
    "* Pon en una variable `prestamos_arriesgado` todos y solo los préstamos malos.\n",
    "* Pon en una variable `prestamos_seguros` una muestra aleatoria de préstamos buenos **del mismo tamaño** que la cantidad de préstamos malos. (Usa [pandas.DataFrame.sample](https://pandas.pydata.org/pandas-docs/stable/generated/pandas.DataFrame.sample.html) con el atributo `random_state=0`)\n",
    "* Junta en una nueva variable `prestamos_balanceados`, los dos grupos anteriores: `prestamos_arriesgados` y `prestamos_seguros`."
   ]
  },
  {
   "cell_type": "code",
   "execution_count": 5,
   "metadata": {
    "collapsed": true
   },
   "outputs": [],
   "source": [
    "prestamos_arriesgado=pd.DataFrame(prestamos_malos)\n",
    "# random_state, sirve para fijar un estado aleatorio de datos con un valor igual 0\n",
    "prestamos_seguros=prestamos_buenos.sample(len(prestamos_malos),random_state=0)\n",
    "\n",
    "prestamos_balanceados=pd.concat([prestamos_seguros,prestamos_arriesgado],sort=False)"
   ]
  },
  {
   "cell_type": "code",
   "execution_count": 6,
   "metadata": {},
   "outputs": [
    {
     "name": "stdout",
     "output_type": "stream",
     "text": [
      "(46300, 68)\n"
     ]
    },
    {
     "data": {
      "text/plain": [
       "-1    23150\n",
       " 1    23150\n",
       "Name: prestamos_seguros, dtype: int64"
      ]
     },
     "execution_count": 6,
     "metadata": {},
     "output_type": "execute_result"
    }
   ],
   "source": [
    "print(prestamos_balanceados.shape)\n",
    "# Se visualiza que la mitad de la columna prestamos_seguros son 1's y la otra son -1's\n",
    "prestamos_balanceados['prestamos_seguros'].value_counts()\n",
    "# A este ultimo se le llama datos Balanceados"
   ]
  },
  {
   "cell_type": "markdown",
   "metadata": {},
   "source": [
    "5 . Asigna a una variable `subconjunto_prestamos` sólo el siguiente subconjunto de características que son las que usaremos:\n",
    "\n",
    "```python\n",
    "caracteristica = ['grade',               # grade of the loan\n",
    "            'sub_grade',                 # sub-grade of the loan\n",
    "            'short_emp',                 # one year or less of employment\n",
    "            'emp_length_num',            # number of years of employment\n",
    "            'home_ownership',            # home_ownership status: own, mortgage or rent\n",
    "            'dti',                       # debt to income ratio\n",
    "            'purpose',                   # the purpose of the loan\n",
    "            'term',                      # the term of the loan\n",
    "            'last_delinq_none',          # has borrower had a delinquincy\n",
    "            'last_major_derog_none',     # has borrower had 90 day or worse rating\n",
    "            'revol_util',                # percent of available credit being used\n",
    "            'total_rec_late_fee',        # total late fees received to day\n",
    "           ]\n",
    "```\n",
    "\n",
    "Asimismo, asigna a una variable **`y`** los valores de la columna `prestamos_seguros`."
   ]
  },
  {
   "cell_type": "code",
   "execution_count": 7,
   "metadata": {
    "collapsed": true
   },
   "outputs": [],
   "source": [
    "subconjunto_prestamos = prestamos_balanceados[['grade','sub_grade','short_emp','emp_length_num','home_ownership','dti','purpose','term','last_delinq_none','last_major_derog_none','revol_util','total_rec_late_fee']]\n",
    "y = prestamos_balanceados[['prestamos_seguros']]"
   ]
  },
  {
   "cell_type": "markdown",
   "metadata": {},
   "source": [
    "6 .  Usando [pandas.get_dummies](https://pandas.pydata.org/pandas-docs/stable/generated/pandas.get_dummies.html) convierte las variables categóricas de `subconjunto_prestamos` en variables numéricas *one-hot*. Guarda el nuevo conjunto de datos en `X`."
   ]
  },
  {
   "cell_type": "code",
   "execution_count": 8,
   "metadata": {},
   "outputs": [
    {
     "data": {
      "text/html": [
       "<div>\n",
       "<style scoped>\n",
       "    .dataframe tbody tr th:only-of-type {\n",
       "        vertical-align: middle;\n",
       "    }\n",
       "\n",
       "    .dataframe tbody tr th {\n",
       "        vertical-align: top;\n",
       "    }\n",
       "\n",
       "    .dataframe thead th {\n",
       "        text-align: right;\n",
       "    }\n",
       "</style>\n",
       "<table border=\"1\" class=\"dataframe\">\n",
       "  <thead>\n",
       "    <tr style=\"text-align: right;\">\n",
       "      <th></th>\n",
       "      <th>short_emp</th>\n",
       "      <th>emp_length_num</th>\n",
       "      <th>dti</th>\n",
       "      <th>last_delinq_none</th>\n",
       "      <th>last_major_derog_none</th>\n",
       "      <th>revol_util</th>\n",
       "      <th>total_rec_late_fee</th>\n",
       "      <th>grade_A</th>\n",
       "      <th>grade_B</th>\n",
       "      <th>grade_C</th>\n",
       "      <th>...</th>\n",
       "      <th>purpose_house</th>\n",
       "      <th>purpose_major_purchase</th>\n",
       "      <th>purpose_medical</th>\n",
       "      <th>purpose_moving</th>\n",
       "      <th>purpose_other</th>\n",
       "      <th>purpose_small_business</th>\n",
       "      <th>purpose_vacation</th>\n",
       "      <th>purpose_wedding</th>\n",
       "      <th>term_ 36 months</th>\n",
       "      <th>term_ 60 months</th>\n",
       "    </tr>\n",
       "  </thead>\n",
       "  <tbody>\n",
       "    <tr>\n",
       "      <th>81182</th>\n",
       "      <td>0</td>\n",
       "      <td>3</td>\n",
       "      <td>20.69</td>\n",
       "      <td>0</td>\n",
       "      <td>1</td>\n",
       "      <td>94.2</td>\n",
       "      <td>0.0</td>\n",
       "      <td>0</td>\n",
       "      <td>0</td>\n",
       "      <td>1</td>\n",
       "      <td>...</td>\n",
       "      <td>0</td>\n",
       "      <td>0</td>\n",
       "      <td>0</td>\n",
       "      <td>0</td>\n",
       "      <td>0</td>\n",
       "      <td>0</td>\n",
       "      <td>0</td>\n",
       "      <td>0</td>\n",
       "      <td>1</td>\n",
       "      <td>0</td>\n",
       "    </tr>\n",
       "    <tr>\n",
       "      <th>62492</th>\n",
       "      <td>0</td>\n",
       "      <td>11</td>\n",
       "      <td>17.97</td>\n",
       "      <td>1</td>\n",
       "      <td>1</td>\n",
       "      <td>51.7</td>\n",
       "      <td>0.0</td>\n",
       "      <td>0</td>\n",
       "      <td>1</td>\n",
       "      <td>0</td>\n",
       "      <td>...</td>\n",
       "      <td>0</td>\n",
       "      <td>0</td>\n",
       "      <td>0</td>\n",
       "      <td>0</td>\n",
       "      <td>0</td>\n",
       "      <td>0</td>\n",
       "      <td>0</td>\n",
       "      <td>0</td>\n",
       "      <td>1</td>\n",
       "      <td>0</td>\n",
       "    </tr>\n",
       "    <tr>\n",
       "      <th>65470</th>\n",
       "      <td>0</td>\n",
       "      <td>11</td>\n",
       "      <td>23.77</td>\n",
       "      <td>0</td>\n",
       "      <td>1</td>\n",
       "      <td>57.4</td>\n",
       "      <td>0.0</td>\n",
       "      <td>0</td>\n",
       "      <td>0</td>\n",
       "      <td>0</td>\n",
       "      <td>...</td>\n",
       "      <td>0</td>\n",
       "      <td>0</td>\n",
       "      <td>0</td>\n",
       "      <td>0</td>\n",
       "      <td>0</td>\n",
       "      <td>0</td>\n",
       "      <td>0</td>\n",
       "      <td>0</td>\n",
       "      <td>0</td>\n",
       "      <td>1</td>\n",
       "    </tr>\n",
       "    <tr>\n",
       "      <th>9259</th>\n",
       "      <td>0</td>\n",
       "      <td>11</td>\n",
       "      <td>17.01</td>\n",
       "      <td>1</td>\n",
       "      <td>1</td>\n",
       "      <td>69.7</td>\n",
       "      <td>0.0</td>\n",
       "      <td>0</td>\n",
       "      <td>1</td>\n",
       "      <td>0</td>\n",
       "      <td>...</td>\n",
       "      <td>0</td>\n",
       "      <td>0</td>\n",
       "      <td>0</td>\n",
       "      <td>0</td>\n",
       "      <td>0</td>\n",
       "      <td>0</td>\n",
       "      <td>0</td>\n",
       "      <td>0</td>\n",
       "      <td>1</td>\n",
       "      <td>0</td>\n",
       "    </tr>\n",
       "    <tr>\n",
       "      <th>77387</th>\n",
       "      <td>0</td>\n",
       "      <td>8</td>\n",
       "      <td>19.83</td>\n",
       "      <td>1</td>\n",
       "      <td>1</td>\n",
       "      <td>91.8</td>\n",
       "      <td>0.0</td>\n",
       "      <td>0</td>\n",
       "      <td>0</td>\n",
       "      <td>1</td>\n",
       "      <td>...</td>\n",
       "      <td>0</td>\n",
       "      <td>0</td>\n",
       "      <td>0</td>\n",
       "      <td>0</td>\n",
       "      <td>1</td>\n",
       "      <td>0</td>\n",
       "      <td>0</td>\n",
       "      <td>0</td>\n",
       "      <td>1</td>\n",
       "      <td>0</td>\n",
       "    </tr>\n",
       "  </tbody>\n",
       "</table>\n",
       "<p>5 rows × 67 columns</p>\n",
       "</div>"
      ],
      "text/plain": [
       "       short_emp  emp_length_num    dti  last_delinq_none  \\\n",
       "81182          0               3  20.69                 0   \n",
       "62492          0              11  17.97                 1   \n",
       "65470          0              11  23.77                 0   \n",
       "9259           0              11  17.01                 1   \n",
       "77387          0               8  19.83                 1   \n",
       "\n",
       "       last_major_derog_none  revol_util  total_rec_late_fee  grade_A  \\\n",
       "81182                      1        94.2                 0.0        0   \n",
       "62492                      1        51.7                 0.0        0   \n",
       "65470                      1        57.4                 0.0        0   \n",
       "9259                       1        69.7                 0.0        0   \n",
       "77387                      1        91.8                 0.0        0   \n",
       "\n",
       "       grade_B  grade_C       ...         purpose_house  \\\n",
       "81182        0        1       ...                     0   \n",
       "62492        1        0       ...                     0   \n",
       "65470        0        0       ...                     0   \n",
       "9259         1        0       ...                     0   \n",
       "77387        0        1       ...                     0   \n",
       "\n",
       "       purpose_major_purchase  purpose_medical  purpose_moving  purpose_other  \\\n",
       "81182                       0                0               0              0   \n",
       "62492                       0                0               0              0   \n",
       "65470                       0                0               0              0   \n",
       "9259                        0                0               0              0   \n",
       "77387                       0                0               0              1   \n",
       "\n",
       "       purpose_small_business  purpose_vacation  purpose_wedding  \\\n",
       "81182                       0                 0                0   \n",
       "62492                       0                 0                0   \n",
       "65470                       0                 0                0   \n",
       "9259                        0                 0                0   \n",
       "77387                       0                 0                0   \n",
       "\n",
       "       term_ 36 months  term_ 60 months  \n",
       "81182                1                0  \n",
       "62492                1                0  \n",
       "65470                0                1  \n",
       "9259                 1                0  \n",
       "77387                1                0  \n",
       "\n",
       "[5 rows x 67 columns]"
      ]
     },
     "execution_count": 8,
     "metadata": {},
     "output_type": "execute_result"
    }
   ],
   "source": [
    "# Una función para convertir una columna en especial a númerico.\n",
    "def createDummies(df,var_name):\n",
    "    dummy = pd.get_dummies(df[var_name],prefix=var_name)\n",
    "    df = df.drop(var_name,axis=1)\n",
    "    df = pd.concat([df,dummy],axis=1)\n",
    "    return df\n",
    "\n",
    "# Para poder crear el modelo de clasificación debemos tener todos los datos como númericos.\n",
    "# Para usar la data de subconjunto_prestamos debemos convertir de datos categoricos a datos númericas.\n",
    "\n",
    "X = pd.get_dummies(subconjunto_prestamos)\n",
    "X.head()"
   ]
  },
  {
   "cell_type": "markdown",
   "metadata": {},
   "source": [
    "7 .  Empleando `sklearn.model_selection.train_test_split` separa el conjunto de datos en un 90% para entrenamiento y validación (`X_entrenamiento_val`, `y_entrenamiento_val`), y 10% para pruebas (`X_prueba`, `y_prueba`).\n",
    "\n",
    "Luego separa (`X_entrenamiento_val`, `y_entrenamiento_val`) en un 80% para entrenamiento (`X_entrenamiento`, `y_entrenamiento`) y 20% para validación (`X_val`, `y_val`)."
   ]
  },
  {
   "cell_type": "code",
   "execution_count": 9,
   "metadata": {},
   "outputs": [
    {
     "data": {
      "text/plain": [
       "(41670, 67)"
      ]
     },
     "execution_count": 9,
     "metadata": {},
     "output_type": "execute_result"
    }
   ],
   "source": [
    "from sklearn.model_selection import train_test_split\n",
    "from sklearn.linear_model import LogisticRegression\n",
    "from sklearn import metrics\n",
    "from sklearn.metrics import recall_score,confusion_matrix,classification_report\n",
    "from sklearn.naive_bayes import GaussianNB\n",
    "from sklearn.neighbors import KNeighborsClassifier\n",
    "import itertools\n",
    "\n",
    "\n",
    "X_entrenamiento_val, X_prueba, y_entrenamiento_val, y_prueba = train_test_split(X,y,test_size=0.10,random_state=90)\n",
    "X_entrenamiento_val.shape"
   ]
  },
  {
   "cell_type": "code",
   "execution_count": 10,
   "metadata": {},
   "outputs": [
    {
     "data": {
      "text/plain": [
       "(33336, 67)"
      ]
     },
     "execution_count": 10,
     "metadata": {},
     "output_type": "execute_result"
    }
   ],
   "source": [
    "X_entrenamiento, X_val, y_entrenamiento, y_val = train_test_split(X_entrenamiento_val,y_entrenamiento_val,test_size=0.20,random_state=80)\n",
    "X_entrenamiento.shape"
   ]
  },
  {
   "cell_type": "markdown",
   "metadata": {},
   "source": [
    "8 . Entrena un modelo como Regresión Logística, Naive Bayes, KNN y un cuarto modelo de tu elección, con las siguientes indicaciones:\n",
    "\n",
    "* Utilizar el uso apropiado de la normalización (Scaling) de datos si fuese necesario.\n",
    "* El uso apropiado de una técnica para la selección de los mejores parámetros de cada modelo (p.ej. búsqueda grid o búsqueda aleatoria)\n",
    "* Reporte para cada modelo la exactitud , precisión y exhaustividad, F1-Score  **en el conjunto de pruebas.** y muestra la matriz de confusión.\n",
    "* Comenta tus resultados."
   ]
  },
  {
   "cell_type": "markdown",
   "metadata": {},
   "source": [
    "#### Antes de empezar usaré un algoritmo que muestra gráficamente los resultados de la matriz de confusión, normalizado"
   ]
  },
  {
   "cell_type": "code",
   "execution_count": 11,
   "metadata": {
    "collapsed": true
   },
   "outputs": [],
   "source": [
    "class_names = y.columns.values.tolist()\n",
    "clase = y.columns\n",
    "# Dejo el link sobre plot de la matriz de confusión  : \n",
    "# http://scikit-learn.org/stable/auto_examples/model_selection/plot_confusion_matrix.html\n",
    "\n",
    "def plot_confusion_matrix(cm, classes,normalize=True,title='Matriz de Confusión',cmap=plt.cm.Blues):\n",
    "    \n",
    "    if normalize:\n",
    "        cm = cm.astype('float') / cm.sum(axis=1)[:, np.newaxis]\n",
    "        print(\"Matriz de Confusión Normalizada\")\n",
    "\n",
    "    print(cm)\n",
    "\n",
    "    plt.imshow(cm, interpolation='nearest', cmap=cmap)\n",
    "    plt.title(title)\n",
    "    plt.colorbar()\n",
    "    tick_marks = np.arange(len(classes))\n",
    "    plt.xticks(tick_marks, classes, rotation=45)\n",
    "    plt.yticks(tick_marks, classes)\n",
    "    fmt = '.2f' if normalize else 'd'\n",
    "    thresh = cm.max() / 2.\n",
    "    for i, j in itertools.product(range(cm.shape[0]), range(cm.shape[1])):\n",
    "        plt.text(j, i, format(cm[i, j], fmt),\n",
    "                 horizontalalignment=\"center\",\n",
    "                 color=\"red\" if cm[i, j] > thresh else \"black\")\n",
    "\n",
    "    plt.ylabel('Etiqueta Verdadera')\n",
    "    plt.xlabel('Etiqueta de Predicción')\n",
    "    plt.tight_layout()"
   ]
  },
  {
   "cell_type": "markdown",
   "metadata": {},
   "source": [
    "##### Creamos una función donde nos muestra la exactitud , precisión y exhaustividad, F1-Score en el conjunto de pruebas y muestra la matriz de confusión"
   ]
  },
  {
   "cell_type": "code",
   "execution_count": 12,
   "metadata": {
    "collapsed": true
   },
   "outputs": [],
   "source": [
    "def Resultados(predicciones_test,y_test,verbose=False):\n",
    "    tn, fp, fn, tp=confusion_matrix(y_val, predicciones_test).ravel()\n",
    "    if verbose:\n",
    "        print ('              +-----------------------+')\n",
    "        print ('              |      Predicción       |')\n",
    "        print ('              +-----------------------+')\n",
    "        print ('              |      -     |     +    |')\n",
    "        print ('+-------+-----+------------+----------+')\n",
    "        print ('| Valor |  -  |    %d    |   %d   |'   % (tn, fp) )\n",
    "        print ('| real  +-----+------------+----------+')\n",
    "        print ('|       |  +  |    %d     |   %d   |'    % (fn, tp) )\n",
    "        print ('+-------+-----+------------+----------+')\n",
    "        print ()\n",
    "        \n",
    "        print(classification_report(y_val, predicciones_test))\n",
    "        print(\"Exactitud : %.2f\"%((tp+tn)/(tp+tn+fp+fn))) \n",
    "        \n",
    "        plt.figure()\n",
    "        plot_confusion_matrix(confusion_matrix(y_val,predicciones_test), classes=class_names,normalize=True)\n",
    "        plt.show()"
   ]
  },
  {
   "cell_type": "markdown",
   "metadata": {},
   "source": [
    "### Regresión Logística"
   ]
  },
  {
   "cell_type": "code",
   "execution_count": 13,
   "metadata": {},
   "outputs": [
    {
     "name": "stdout",
     "output_type": "stream",
     "text": [
      "              +-----------------------+\n",
      "              |      Predicción       |\n",
      "              +-----------------------+\n",
      "              |      -     |     +    |\n",
      "+-------+-----+------------+----------+\n",
      "| Valor |  -  |    2704    |   1487   |\n",
      "| real  +-----+------------+----------+\n",
      "|       |  +  |    1434     |   2709   |\n",
      "+-------+-----+------------+----------+\n",
      "\n",
      "             precision    recall  f1-score   support\n",
      "\n",
      "         -1       0.65      0.65      0.65      4191\n",
      "          1       0.65      0.65      0.65      4143\n",
      "\n",
      "avg / total       0.65      0.65      0.65      8334\n",
      "\n",
      "Exactitud : 0.65\n",
      "Matriz de Confusión Normalizada\n",
      "[[0.64519208 0.35480792]\n",
      " [0.346126   0.653874  ]]\n"
     ]
    },
    {
     "data": {
      "image/png": "[encoded data removed]",
      "text/plain": [
       "<Figure size 432x288 with 2 Axes>"
      ]
     },
     "metadata": {},
     "output_type": "display_data"
    }
   ],
   "source": [
    "Regresion_Logistica = LogisticRegression(random_state=0).fit(X_entrenamiento, y_entrenamiento.values.ravel())\n",
    "predicciones_test = Regresion_Logistica.predict(X_val)\n",
    "Resultados(predicciones_test,y_val,verbose=True)\n",
    "tn, fp, fn, tp=confusion_matrix(y_val, predicciones_test).ravel()"
   ]
  },
  {
   "cell_type": "markdown",
   "metadata": {},
   "source": [
    "Sabemos que el modelo de Regresión Logistica se usa cuando las salidas son discretas (y no continuas), es un modelo de aprendizaje Supervisado, vemos que los datos están parejos es decir que la exactitud es igual al recall y a la especifidad y tambien a f1-score. Además los tp y tn se tienen mayores datos y esto lo vuelve mas aún un modelo mas optimo."
   ]
  },
  {
   "cell_type": "markdown",
   "metadata": {},
   "source": [
    "### Naive Bayes"
   ]
  },
  {
   "cell_type": "code",
   "execution_count": 14,
   "metadata": {},
   "outputs": [
    {
     "name": "stdout",
     "output_type": "stream",
     "text": [
      "              +-----------------------+\n",
      "              |      Predicción       |\n",
      "              +-----------------------+\n",
      "              |      -     |     +    |\n",
      "+-------+-----+------------+----------+\n",
      "| Valor |  -  |    1783    |   2408   |\n",
      "| real  +-----+------------+----------+\n",
      "|       |  +  |    844     |   3299   |\n",
      "+-------+-----+------------+----------+\n",
      "\n",
      "             precision    recall  f1-score   support\n",
      "\n",
      "         -1       0.68      0.43      0.52      4191\n",
      "          1       0.58      0.80      0.67      4143\n",
      "\n",
      "avg / total       0.63      0.61      0.60      8334\n",
      "\n",
      "Exactitud : 0.61\n",
      "Matriz de Confusión Normalizada\n",
      "[[0.42543546 0.57456454]\n",
      " [0.20371711 0.79628289]]\n"
     ]
    },
    {
     "data": {
      "image/png": "[encoded data removed]",
      "text/plain": [
       "<Figure size 432x288 with 2 Axes>"
      ]
     },
     "metadata": {},
     "output_type": "display_data"
    }
   ],
   "source": [
    "Naive_Bayes= GaussianNB(priors=None).fit(X_entrenamiento, y_entrenamiento.values.ravel())\n",
    "predicciones_test=Naive_Bayes.predict(X_val)\n",
    "Resultados(predicciones_test,y_val,verbose=True)\n",
    "tn, fp, fn, tp=confusion_matrix(y_val, predicciones_test).ravel()"
   ]
  },
  {
   "cell_type": "markdown",
   "metadata": {},
   "source": [
    "Sabemos que el modelo de Naives Bayes utiliza el teorema de Bayes de independencia condicional entre cada par de caracteristicas, es un modelo de aprendizaje Supervisado, vemos que la exáctitud es menor que el anterior modelo, además decimos que los fp son mayores que los tn esto a grandes rasgos nos perjudica en la predicción. No sería un modelo para este conjunto de datos."
   ]
  },
  {
   "cell_type": "markdown",
   "metadata": {},
   "source": [
    "### K-Nearest-Neighbors"
   ]
  },
  {
   "cell_type": "code",
   "execution_count": 15,
   "metadata": {},
   "outputs": [
    {
     "name": "stdout",
     "output_type": "stream",
     "text": [
      "              +-----------------------+\n",
      "              |      Predicción       |\n",
      "              +-----------------------+\n",
      "              |      -     |     +    |\n",
      "+-------+-----+------------+----------+\n",
      "| Valor |  -  |    2400    |   1791   |\n",
      "| real  +-----+------------+----------+\n",
      "|       |  +  |    1485     |   2658   |\n",
      "+-------+-----+------------+----------+\n",
      "\n",
      "             precision    recall  f1-score   support\n",
      "\n",
      "         -1       0.62      0.57      0.59      4191\n",
      "          1       0.60      0.64      0.62      4143\n",
      "\n",
      "avg / total       0.61      0.61      0.61      8334\n",
      "\n",
      "Exactitud : 0.61\n",
      "Matriz de Confusión Normalizada\n",
      "[[0.57265569 0.42734431]\n",
      " [0.35843592 0.64156408]]\n"
     ]
    },
    {
     "data": {
      "image/png": "[encoded data removed]",
      "text/plain": [
       "<Figure size 432x288 with 2 Axes>"
      ]
     },
     "metadata": {},
     "output_type": "display_data"
    }
   ],
   "source": [
    "NNK = KNeighborsClassifier(n_neighbors=50, algorithm='auto')\n",
    "NNK.fit(X_entrenamiento,y_entrenamiento.values.ravel())\n",
    "predicciones_test=NNK.predict(X_val)\n",
    "Resultados(predicciones_test,y_val,verbose=True)\n",
    "tn, fp, fn, tp=confusion_matrix(y_val, predicciones_test).ravel()"
   ]
  },
  {
   "cell_type": "markdown",
   "metadata": {},
   "source": [
    "Se sabe que KNN sirve para modelos de predicciones y clasificación, en este caso lo usaremos para clasificación por lo cual entrenando el modelo y con un K que viene hacer el umbral, se obtuvo que su exáctitud es de 0.61 igual que el modelo anterior. Este modelo tiene similiarmente los resultados del modelo de Regresión Logistica, comparando los modelos, vemos que los tp y tn son menores que el modelo RL, además esto lo hace menos optimo y tiene menor exactitud y especificidad. Por lo cual no sería un modelo para este conjunto de datos."
   ]
  },
  {
   "cell_type": "markdown",
   "metadata": {},
   "source": [
    "### Support Vector Machine"
   ]
  },
  {
   "cell_type": "code",
   "execution_count": 16,
   "metadata": {},
   "outputs": [
    {
     "data": {
      "text/plain": [
       "Perceptron(alpha=0.0001, class_weight=None, eta0=1.0, fit_intercept=True,\n",
       "      max_iter=None, n_iter=None, n_jobs=1, penalty=None, random_state=0,\n",
       "      shuffle=True, tol=0.001, verbose=0, warm_start=False)"
      ]
     },
     "execution_count": 16,
     "metadata": {},
     "output_type": "execute_result"
    }
   ],
   "source": [
    "from sklearn.linear_model import Perceptron\n",
    "percentron = Perceptron(tol=1e-3, random_state=0)\n",
    "percentron.fit(X_entrenamiento, y_entrenamiento.values.ravel())"
   ]
  },
  {
   "cell_type": "code",
   "execution_count": 17,
   "metadata": {
    "collapsed": true
   },
   "outputs": [],
   "source": [
    "predicciones_test = percentron.predict(X_val)"
   ]
  },
  {
   "cell_type": "code",
   "execution_count": 18,
   "metadata": {},
   "outputs": [
    {
     "name": "stdout",
     "output_type": "stream",
     "text": [
      "              +-----------------------+\n",
      "              |      Predicción       |\n",
      "              +-----------------------+\n",
      "              |      -     |     +    |\n",
      "+-------+-----+------------+----------+\n",
      "| Valor |  -  |    2710    |   1481   |\n",
      "| real  +-----+------------+----------+\n",
      "|       |  +  |    1525     |   2618   |\n",
      "+-------+-----+------------+----------+\n",
      "\n",
      "             precision    recall  f1-score   support\n",
      "\n",
      "         -1       0.64      0.65      0.64      4191\n",
      "          1       0.64      0.63      0.64      4143\n",
      "\n",
      "avg / total       0.64      0.64      0.64      8334\n",
      "\n",
      "Exactitud : 0.64\n",
      "Matriz de Confusión Normalizada\n",
      "[[0.64662372 0.35337628]\n",
      " [0.36809076 0.63190924]]\n"
     ]
    },
    {
     "data": {
      "image/png": "[encoded data removed]",
      "text/plain": [
       "<Figure size 432x288 with 2 Axes>"
      ]
     },
     "metadata": {},
     "output_type": "display_data"
    }
   ],
   "source": [
    "Resultados(predicciones_test,y_val,verbose=True)\n",
    "tn, fp, fn, tp=confusion_matrix(y_val, predicciones_test).ravel()"
   ]
  },
  {
   "cell_type": "markdown",
   "metadata": {
    "collapsed": true
   },
   "source": [
    "Este modelo es un Algoritmo de clasificación adecuado para el aprendizaje a gran escala. Viendo con los demás modelo anteriores vemos de que es casi parecido y esta cerca al modelo de Regresión logística. Varia un poco en los tp y además los datos que pidió calcular son menores que el modelo de Regresión Logística."
   ]
  },
  {
   "cell_type": "markdown",
   "metadata": {},
   "source": [
    "## Conclusión"
   ]
  },
  {
   "cell_type": "markdown",
   "metadata": {},
   "source": [
    "De los modelo se puede decir; que los modelos para este conjunto de datos sería el modelo de Regresión Lineal y Percentrón, aqui vemos que las metricas tienen el mismo valor esto se debe a que el conjunto de datos es balanceado. Pues bien el error entre los modelos mencionados es de 0.01, no es mucha la diferencia es por eso que puede ser elegido cualquiera de los dos modelos, sería cuestión de analizar el sesgo y la varianza junto con los RMSE y tener mucho cuidado con el entrenamiento (overfitting y underfitting), esto influye mucho en la predicción del conjunto de datos."
   ]
  }
 ],
 "metadata": {
  "kernelspec": {
   "display_name": "Python 3",
   "language": "python",
   "name": "python3"
  },
  "language_info": {
   "codemirror_mode": {
    "name": "ipython",
    "version": 3
   },
   "file_extension": ".py",
   "mimetype": "text/x-python",
   "name": "python",
   "nbconvert_exporter": "python",
   "pygments_lexer": "ipython3",
   "version": "3.6.3"
  }
 },
 "nbformat": 4,
 "nbformat_minor": 2
}

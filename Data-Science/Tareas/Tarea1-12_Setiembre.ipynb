{
 "cells": [
  {
   "cell_type": "markdown",
   "metadata": {},
   "source": [
    "## Tarea 1 del curso CM-072\n",
    "\n",
    "                            \n",
    "### Nelson Steven Sanabio Maldonado\n",
    "### 20152734A"
   ]
  },
  {
   "cell_type": "markdown",
   "metadata": {},
   "source": [
    "## Lista de preguntas:"
   ]
  },
  {
   "cell_type": "markdown",
   "metadata": {},
   "source": [
    "1 . Responde de acuerdo a los conceptos hechos en clase las siguientes preguntas:\n",
    "   * Supongamos que tenemos la tarea de construir un sistema que pueda distinguir  correo no deseado o spam. ¿Qué crees que hay en un correo electrónico no deseado que nos permite saber que es spam? ¿Cómo puede la computadora detectar spam a través de un análisis sintáctico?. ¿Qué te gustaría que hiciera la computadora si detecta un correo electrónico que es spam?, ¿eliminarlo automáticamente, moverlo a un archivo diferente o simplemente resaltarlo en la pantalla?.\n",
    "   \n",
    "   * ¿Cómo se puede predecir el siguiente comando a ser escrito por un usuario? ¿O la próxima página de la que descargará información en la Web? ¿Cuándo sería útil tal predicción? ¿Cuándo no?."
   ]
  },
  {
   "cell_type": "markdown",
   "metadata": {},
   "source": [
    "* \n",
    "  - Publicidad, Mensajes de páginas donde uno se suscribe o se logea, correos no identificados. \n",
    "  - Enseñandole a la computadora los msm que nos importa(aprendizaje supervisado) para que establezca relaciones de dependencias, categoría gramatical, etc.\n",
    "  - Eliminarlo automaticamente conociendo los patrones de la eliminación usando algoritmos de aprendizaje supervisado (input - output).  "
   ]
  },
  {
   "cell_type": "markdown",
   "metadata": {},
   "source": [
    "2 . ¿Puedes predecir las especies de un iris usando medidas de pétalos y sépalos?\n",
    "\n",
    "   * Lee los datos del conjunto predeterminado `iris` en un DataFrame de Pandas, incluyendo los nombres de las columnas.\n",
    "   * Recolecta  información básica sobre los datos `iris`  utilizando pandas.\n",
    "   * Utiliza la clasificación, [dividir-aplicar-combinar](https://pandas.pydata.org/pandas-docs/version/0.23.4/groupby.html) y  visualización para buscar las diferencias entre las especies.\n",
    "\n",
    "   * Escribe un conjunto de reglas que podrían usarse para predecir especies en base a las mediciones de iris.\n",
    "   * Define una función que acepte una fila de datos y devuelva una especie pronosticada. Luego, usa esa función para hacer predicciones para todas las filas de datos existentes y verifique la precisión de sus predicciones.\n"
   ]
  },
  {
   "cell_type": "code",
   "execution_count": 6,
   "metadata": {},
   "outputs": [
    {
     "name": "stdout",
     "output_type": "stream",
     "text": [
      "Iris Plants Database\n",
      "====================\n",
      "\n",
      "Notes\n",
      "-----\n",
      "Data Set Characteristics:\n",
      "    :Number of Instances: 150 (50 in each of three classes)\n",
      "    :Number of Attributes: 4 numeric, predictive attributes and the class\n",
      "    :Attribute Information:\n",
      "        - sepal length in cm\n",
      "        - sepal width in cm\n",
      "        - petal length in cm\n",
      "        - petal width in cm\n",
      "        - class:\n",
      "                - Iris-Setosa\n",
      "                - Iris-Versicolour\n",
      "                - Iris-Virginica\n",
      "    :Summary Statistics:\n",
      "\n",
      "    ============== ==== ==== ======= ===== ====================\n",
      "                    Min  Max   Mean    SD   Class Correlation\n",
      "    ============== ==== ==== ======= ===== ====================\n",
      "    sepal length:   4.3  7.9   5.84   0.83    0.7826\n",
      "    sepal width:    2.0  4.4   3.05   0.43   -0.4194\n",
      "    petal length:   1.0  6.9   3.76   1.76    0.9490  (high!)\n",
      "    petal width:    0.1  2.5   1.20  0.76     0.9565  (high!)\n",
      "    ============== ==== ==== ======= ===== ====================\n",
      "\n",
      "    :Missing Attribute Values: None\n",
      "    :Class Distribution: 33.3% for each of 3 classes.\n",
      "    :Creator: R.A. Fisher\n",
      "    :Donor: Michael Marshall (MARSHALL%PLU@io.arc.nasa.gov)\n",
      "    :Date: July, 1988\n",
      "\n",
      "This is a copy of UCI ML iris datasets.\n",
      "http://archive.ics.uci.edu/ml/datasets/Iris\n",
      "\n",
      "The famous Iris database, first used by Sir R.A Fisher\n",
      "\n",
      "This is perhaps the best known database to be found in the\n",
      "pattern recognition literature.  Fisher's paper is a classic in the field and\n",
      "is referenced frequently to this day.  (See Duda & Hart, for example.)  The\n",
      "data set contains 3 classes of 50 instances each, where each class refers to a\n",
      "type of iris plant.  One class is linearly separable from the other 2; the\n",
      "latter are NOT linearly separable from each other.\n",
      "\n",
      "References\n",
      "----------\n",
      "   - Fisher,R.A. \"The use of multiple measurements in taxonomic problems\"\n",
      "     Annual Eugenics, 7, Part II, 179-188 (1936); also in \"Contributions to\n",
      "     Mathematical Statistics\" (John Wiley, NY, 1950).\n",
      "   - Duda,R.O., & Hart,P.E. (1973) Pattern Classification and Scene Analysis.\n",
      "     (Q327.D83) John Wiley & Sons.  ISBN 0-471-22361-1.  See page 218.\n",
      "   - Dasarathy, B.V. (1980) \"Nosing Around the Neighborhood: A New System\n",
      "     Structure and Classification Rule for Recognition in Partially Exposed\n",
      "     Environments\".  IEEE Transactions on Pattern Analysis and Machine\n",
      "     Intelligence, Vol. PAMI-2, No. 1, 67-71.\n",
      "   - Gates, G.W. (1972) \"The Reduced Nearest Neighbor Rule\".  IEEE Transactions\n",
      "     on Information Theory, May 1972, 431-433.\n",
      "   - See also: 1988 MLC Proceedings, 54-64.  Cheeseman et al\"s AUTOCLASS II\n",
      "     conceptual clustering system finds 3 classes in the data.\n",
      "   - Many, many more ...\n",
      "\n"
     ]
    },
    {
     "data": {
      "text/plain": [
       "['setosa', 'versicolor', 'virginica']"
      ]
     },
     "execution_count": 6,
     "metadata": {},
     "output_type": "execute_result"
    }
   ],
   "source": [
    "from sklearn.datasets import load_iris\n",
    "import pandas as pd\n",
    "iris = load_iris()\n",
    "print(iris['DESCR'])\n",
    "# Obteniendo la data de iris a la variable X\n",
    "X = iris.data\n",
    "# Convirtiendo en DataFrame con sus respectivos nombres gracias a iris['DESCR']\n",
    "data_frame = pd.DataFrame(X,columns=[\"Sepal Length\",\"Sepal Width\",\"Petal Length\",\"Petal Width\"])\n",
    "# Haciendo uso de las etiquetas\n",
    "Y = iris.target_names\n",
    "list(Y)"
   ]
  },
  {
   "cell_type": "code",
   "execution_count": 7,
   "metadata": {},
   "outputs": [
    {
     "name": "stdout",
     "output_type": "stream",
     "text": [
      "                           Sepal Width  Petal Width\n",
      "Sepal Length Petal Length                          \n",
      "4.3          1.1                   3.0          0.1\n",
      "4.4          1.3                   6.2          0.4\n",
      "             1.4                   2.9          0.2\n",
      "4.5          1.3                   2.3          0.3\n",
      "4.6          1.0                   3.6          0.2\n",
      "             1.4                   6.6          0.5\n",
      "             1.5                   3.1          0.2\n",
      "4.7          1.3                   3.2          0.2\n",
      "             1.6                   3.2          0.2\n",
      "4.8          1.4                   6.0          0.4\n",
      "             1.6                   6.5          0.4\n",
      "             1.9                   3.4          0.2\n",
      "4.9          1.4                   3.0          0.2\n",
      "             1.5                   9.3          0.3\n",
      "             3.3                   2.4          1.0\n",
      "             4.5                   2.5          1.7\n",
      "5.0          1.2                   3.2          0.2\n",
      "             1.3                   3.5          0.3\n",
      "             1.4                   6.9          0.4\n",
      "             1.5                   3.4          0.2\n",
      "             1.6                   9.9          1.2\n",
      "             3.3                   2.3          1.0\n",
      "             3.5                   2.0          1.0\n",
      "5.1          1.4                   7.0          0.5\n",
      "             1.5                  10.9          0.9\n",
      "             1.6                   3.8          0.2\n",
      "             1.7                   3.3          0.5\n",
      "             1.9                   3.8          0.4\n",
      "             3.0                   2.5          1.1\n",
      "5.2          1.4                   3.4          0.2\n",
      "...                                ...          ...\n",
      "6.5          5.5                   3.0          1.8\n",
      "             5.8                   3.0          2.2\n",
      "6.6          4.4                   3.0          1.4\n",
      "             4.6                   2.9          1.3\n",
      "6.7          4.4                   3.1          1.4\n",
      "             4.7                   3.1          1.5\n",
      "             5.0                   3.0          1.7\n",
      "             5.2                   3.0          2.3\n",
      "             5.6                   3.1          2.4\n",
      "             5.7                   6.6          4.6\n",
      "             5.8                   2.5          1.8\n",
      "6.8          4.8                   2.8          1.4\n",
      "             5.5                   3.0          2.1\n",
      "             5.9                   3.2          2.3\n",
      "6.9          4.9                   3.1          1.5\n",
      "             5.1                   3.1          2.3\n",
      "             5.4                   3.1          2.1\n",
      "             5.7                   3.2          2.3\n",
      "7.0          4.7                   3.2          1.4\n",
      "7.1          5.9                   3.0          2.1\n",
      "7.2          5.8                   3.0          1.6\n",
      "             6.0                   3.2          1.8\n",
      "             6.1                   3.6          2.5\n",
      "7.3          6.3                   2.9          1.8\n",
      "7.4          6.1                   2.8          1.9\n",
      "7.6          6.6                   3.0          2.1\n",
      "7.7          6.1                   3.0          2.3\n",
      "             6.7                   6.6          4.2\n",
      "             6.9                   2.6          2.3\n",
      "7.9          6.4                   3.8          2.0\n",
      "\n",
      "[123 rows x 2 columns]\n"
     ]
    }
   ],
   "source": [
    "# Viendo la relación de tamaños entre el sepal y petal\n",
    "group = data_frame.groupby([\"Sepal Length\",\"Petal Length\"]).sum()\n",
    "print(group)"
   ]
  },
  {
   "cell_type": "code",
   "execution_count": 8,
   "metadata": {
    "collapsed": true
   },
   "outputs": [],
   "source": [
    "# Describiendo algunas reglas para predecir especies\n",
    "# Reglas:\n",
    "# 1) Analizar los datos con sus caracteristicas y ver que modelo usar.\n",
    "# 2) Recopilar datos en dos partes (Conjunto de entrenamiento (75%) y conjunto de prueba (25%)).\n",
    "# 3) Escoger un algoritmo de clasificación - K vecinos más cercano.\n",
    "# 4) Almacenar el conjunto de entrenamiento.\n",
    "# 5) LLamar a la función KNeighborsClassifier\n",
    "# 6) Usar el estimador para el seguimiento de los datos con el método fit\n",
    "# 7) Ready for run code !!!"
   ]
  },
  {
   "cell_type": "code",
   "execution_count": 9,
   "metadata": {},
   "outputs": [
    {
     "name": "stdout",
     "output_type": "stream",
     "text": [
      "Objetivo predicho : ['versicolor' 'versicolor' 'virginica' 'versicolor' 'versicolor' 'setosa'\n",
      " 'versicolor' 'setosa' 'setosa' 'virginica']\n",
      "Hallando la precisión : 0.97\n"
     ]
    }
   ],
   "source": [
    "from sklearn.model_selection import train_test_split\n",
    "import random as rnd\n",
    "import numpy as np\n",
    "from sklearn.neighbors import KNeighborsClassifier\n",
    "\n",
    "# Creando una función en la cual genera aleatoriamente una fila del datos para ver mas adelante la predicción\n",
    "# np.random.rand(4) = Array de 4 elementos\n",
    "def GenerarDatos():\n",
    "    lista=[]\n",
    "    for i in range(10):\n",
    "        lista.insert(i,4.5*np.random.rand(4))\n",
    "    return lista\n",
    "\n",
    "# Creando una modelo de clasificación - aprendizaje supervisado\n",
    "X_entrenamiento, X_prueba, y_entrenamiento, y_prueba = train_test_split(iris['data'], iris['target'])\n",
    "knn=KNeighborsClassifier(n_neighbors=1)\n",
    "knn.fit(X_entrenamiento, y_entrenamiento)\n",
    "X_nuevo=GenerarDatos()\n",
    "\n",
    "# Predicción de los datos generados\n",
    "prediccion = knn.predict(X_nuevo)\n",
    "print(\"Objetivo predicho : {}\".format(iris['target_names'][prediccion]))\n",
    "print(\"Hallando la precisión : {:.2f}\".format(knn.score(X_prueba,y_prueba)))"
   ]
  },
  {
   "cell_type": "markdown",
   "metadata": {},
   "source": [
    "3 . Sea el siguiente código de generación de datos:"
   ]
  },
  {
   "cell_type": "code",
   "execution_count": 10,
   "metadata": {
    "collapsed": true
   },
   "outputs": [],
   "source": [
    "import numpy as np\n",
    "import pandas as pd\n",
    "import matplotlib.pyplot as plt\n",
    "\n",
    "%matplotlib inline"
   ]
  },
  {
   "cell_type": "code",
   "execution_count": 11,
   "metadata": {},
   "outputs": [
    {
     "data": {
      "image/png": "[encoded data removed]",
      "text/plain": [
       "<matplotlib.figure.Figure at 0x7f99fa9e5780>"
      ]
     },
     "metadata": {},
     "output_type": "display_data"
    }
   ],
   "source": [
    "# Recolectamos datos artificiales\n",
    "n = 100\n",
    "x = np.linspace(0, 1, n)\n",
    "y = np.sin(x)*3 + np.random.normal(0, 0.1, n)\n",
    "plt.plot(x, y, 'o');"
   ]
  },
  {
   "cell_type": "markdown",
   "metadata": {},
   "source": [
    "Usando los siguientes datos y scikit learn, desarrolla los siguientes pasos descritos en clase, para una regresión lineal:\n",
    "\n",
    "* Escoger un modelo\n",
    "* Elegir modelo de hiperparámetros\n",
    "* Organiza los datos en una matriz de características y vector objetivo.\n",
    "* Fija el modelo a tus datos.\n",
    "* Predecir etiquetas para datos desconocidos."
   ]
  },
  {
   "cell_type": "code",
   "execution_count": 12,
   "metadata": {},
   "outputs": [
    {
     "data": {
      "text/plain": [
       "[<matplotlib.lines.Line2D at 0x7f99f2bb4780>]"
      ]
     },
     "execution_count": 12,
     "metadata": {},
     "output_type": "execute_result"
    },
    {
     "data": {
      "image/png": "[encoded data removed]",
      "text/plain": [
       "<matplotlib.figure.Figure at 0x7f99f1dda5c0>"
      ]
     },
     "metadata": {},
     "output_type": "display_data"
    }
   ],
   "source": [
    "import numpy as np\n",
    "from sklearn import linear_model\n",
    "# Modelo hiperparámetrico\n",
    "modelo = linear_model.LinearRegression(fit_intercept=True,normalize=False)\n",
    "\n",
    "# Matrix de características\n",
    "features_mat = x[:,np.newaxis]\n",
    "# Vector objetivo\n",
    "objective_vec = y \n",
    "modelo.fit(features_mat, objective_vec) \n",
    "\n",
    "#Fijando los datos al modelo\n",
    "xfit = np.linspace(0,1,100)\n",
    "xfit=xfit[:,np.newaxis]\n",
    "\n",
    "# Prediccion de la recta \n",
    "yfit = modelo.predict(xfit) \n",
    "\n",
    "plt.scatter(x, y) \n",
    "plt.plot(x, yfit, '-r')\n"
   ]
  },
  {
   "cell_type": "markdown",
   "metadata": {},
   "source": [
    "4 . Realiza los mismos pasos para el conjunto  de datos de scikit learn  [load_diabetes](http://scikit-learn.org/stable/modules/generated/sklearn.datasets.load_diabetes.html). "
   ]
  },
  {
   "cell_type": "code",
   "execution_count": 16,
   "metadata": {
    "collapsed": true
   },
   "outputs": [],
   "source": [
    "from sklearn.datasets import load_diabetes\n",
    "import matplotlib.pyplot as plt\n",
    "from sklearn import linear_model\n",
    "data_diabetes = load_diabetes()\n",
    "import numpy as np"
   ]
  },
  {
   "cell_type": "code",
   "execution_count": 17,
   "metadata": {},
   "outputs": [
    {
     "data": {
      "text/plain": [
       "dict_keys(['data', 'target', 'DESCR', 'feature_names'])"
      ]
     },
     "execution_count": 17,
     "metadata": {},
     "output_type": "execute_result"
    }
   ],
   "source": [
    "data_diabetes.keys()"
   ]
  },
  {
   "cell_type": "code",
   "execution_count": 18,
   "metadata": {},
   "outputs": [
    {
     "data": {
      "image/png": "[encoded data removed]",
      "text/plain": [
       "<matplotlib.figure.Figure at 0x7f99f128fac8>"
      ]
     },
     "metadata": {},
     "output_type": "display_data"
    }
   ],
   "source": [
    "X = data_diabetes.data[:, np.newaxis, 3]\n",
    "\n",
    "# Dividiendo los datos de X en dos partes como lo mencionamos en la pregunta 2\n",
    "# Los datos repartidos para entrenar son 331 el total es 442 y para la prueba el lo restante es 111\n",
    "X_entrenamiento=X[:-111]\n",
    "X_prueba = X[-111:]\n",
    "\n",
    "data_diabetes[\"target\"].shape\n",
    "\n",
    "Y_entrenamiento=data_diabetes[\"target\"][:-111]\n",
    "Y_prueba=data_diabetes[\"target\"][-111:]\n",
    "\n",
    "# Usando el modelo de regresión lineal\n",
    "modelo = linear_model.LinearRegression()\n",
    "\n",
    "modelo.fit(X_entrenamiento,Y_entrenamiento)\n",
    "\n",
    "Y_diabetes_pred=modelo.predict(X_prueba)\n",
    "\n",
    "plt.scatter(X_prueba, Y_prueba,  color='green')\n",
    "plt.plot(X_prueba, Y_diabetes_pred, color='red')\n",
    "\n",
    "plt.xticks(())\n",
    "plt.yticks(())\n",
    "\n",
    "plt.show()\n",
    "# Interpretando, se dice los datos que están sobre la recta tiene mas probabilidad de sufrir diabetes."
   ]
  },
  {
   "cell_type": "markdown",
   "metadata": {},
   "source": [
    "5 (Obligatoria). Lee el siguiente artículo [Understanding the Bias-Variance Tradeoff](http://scott.fortmann-roe.com/docs/BiasVariance.html), responde las siguientes preguntas:\n",
    "\n",
    "* En el ejemplo Party Registration, ¿cuáles son las características? ¿Cuál es la respuesta? ¿Es  un problema de regresión o clasificación?.\n",
    "\n",
    "* Conceptualmente, ¿cómo se aplica KNN a este problema para hacer una predicción?\n",
    "* ¿Cómo se relacionan las cuatro visualizaciones en la sección 3 entre sí?. Cambia el valor de **k** utilizando el control deslizante y explica por que  cambió  las visualizaciones.\n",
    "* En las figuras 4 y 5, ¿qué significan los colores más claros en comparación con los colores más oscuros? ¿Cómo se calcula la oscuridad?\n",
    "\n",
    "* ¿Qué representa la línea negra en la figura 5? ¿Qué predicciones haría el mejor modelo de aprendizaje automático con respecto a esta línea?\n",
    "\n",
    "* Elije un valor pequeño para `k` y haz clic en el botón `Generate New Training Data` varias veces. ¿Observas \"baja varianza o alta varianza, bajo sesgo o alto sesgo?\n",
    "\n",
    "* Repite este procedimiento con un valor muy grande de `k`. ¿Observas \"baja varianza o alta varianza, bajo sesgo o alto sesgo?.\n",
    "\n",
    "* Utiliza otros valores de `k`. ¿Qué valor crees que es \"mejor\"? ¿Cómo defines \"mejor\"?.\n",
    "\n",
    "* ¿Un pequeño valor de `k` produce \"overfitting\" o \"underfitting\"? y ¿por qué?.\n",
    "\n",
    "* ¿Por qué debería importarnos la varianza? ¿No deberíamos minimizar el sesgo e ignorar la varianza?."
   ]
  },
  {
   "cell_type": "markdown",
   "metadata": {
    "collapsed": true
   },
   "source": [
    "#### Respuestas:"
   ]
  },
  {
   "cell_type": "markdown",
   "metadata": {
    "collapsed": true
   },
   "source": [
    "- Las carácteristicas son la riqueza y la religiosidad, estas propiedades son cuantitativas, además se puede observar de la gráfica de que hay más personas republicanas que son religiosas, por otro lado observamos que en riqueza están probablemente equitativos. La respuesta es que las personas republicanas pueda que gane como no tampoco, va influir mucho el entorno en la cual se encuentren los votantes, si se encuentran dentro del entorno donde hay mas votantes republicanos pueden hacer que la persona democráta cambie de partido debio a su entorno, ahora veremos los errores, sobre el sesgo, al no darle seguimiento a los votantes pueda que varie en cada respuesta que obtengamos y en la varianza, se nota que hay una buena cantidad de datos que están agrupados, cada grupo independientemente tendrá una variabilidad. Se puede concluir de que se trata de un problema de clasificación de multiclase."
   ]
  },
  {
   "cell_type": "markdown",
   "metadata": {},
   "source": [
    "- Lo que hace el modelo de KNN es una clasificación de datos que estima qué tan probable es que un punto de datos del conjunto de datos sea miembro de un grupo u otro según el grupo en el que se encuentren los puntos de datos más cercanos y eso se puede observar en la interfaz del ejemplo, cambiando el K, donde se juntan los vecinos cercano a dicho punto de dato."
   ]
  },
  {
   "cell_type": "markdown",
   "metadata": {},
   "source": [
    "- La primera imagen viene hacer la representación del conjunto de datos, sin usar ningún modelo. El segundo es ya usando el modelo KNN donde se observa que están dividido independientemente en poligonos irregulares, se podría decir que el K que se usa para esa imágen es 1. El tercero es usando una interfaz interactiva donde nos permite predecir el voto de un votante, que esta cerca a cualquiera de los votantes(Republicanos y Demócratas) al momento de seleccionar un punto del conjunto de datospara un cierto K para esta imagen el K = 2. La cuarta es variando el K, con un boton deslizante en la cual predice para cualquier K, que solicitemos. Nos muestra con diferentes intensidades de un mismo color, la probabilidad que cambie de registro."
   ]
  },
  {
   "cell_type": "markdown",
   "metadata": {},
   "source": [
    "- Como mencione en la anterior pregunta, cuando es de color puro se dice que es preciso osea que su voto es fijo, en caso contrario se dice que probablemente pueda cambiar de votación. Se puede hacer variar la intensidad de color mediante cuantos vecinos están cerca a su alrededor de un punto y contarlo, luego sacar un porcentaje, ponerlo en el argumento de la intensidad, sintaxis del color (R,G,B,I), donde I viene hacer la intensidad en porcentaje y los colores (R,G,B) son fijos para un grupo."
   ]
  },
  {
   "cell_type": "markdown",
   "metadata": {},
   "source": [
    "- La línea negra viene hacer la predicción para que los individuos se clasifiquen como demócratas o republicanos. \n"
   ]
  },
  {
   "cell_type": "markdown",
   "metadata": {},
   "source": [
    "- Para un K =5, el sesgo es bajo ya que la mayoria de puntos se encuentra en la parte inferior al igual que el otro caso, y la varianza es alta ya que hay mas puntos que no son precisos (votantes) y que pueden que cambien."
   ]
  },
  {
   "cell_type": "markdown",
   "metadata": {},
   "source": [
    "- Para un K = 70, sucede como en el caso anterior pero en este caso hay mas imprecisiones ya que al escoger nuevos datos se observa que uno de los votantes(Republicanos o Demócratas) no son precisos, es decir, de que la varianza es alta en cambio el sesgo se mantiene uniforme ya que se respeta la frontera de la línea negra."
   ]
  },
  {
   "cell_type": "markdown",
   "metadata": {},
   "source": [
    "- Para K = 3, el resultado es mejor, ya que se pueden notar de que cada votante esta seguro de su votación(se puede notas en los colores que son puros-rojo o azul), es decir, que nadie ni nada podrá hacerle cambiar de votación, esto significa literalmente \"mejor\", ya que como podemos ver en el gráfico, se tiene un sesgo bajo con una varianza baja entonces es confiable usar el modelo KNN para un K=3 para una mejor eficiencia en las predicciones."
   ]
  },
  {
   "cell_type": "markdown",
   "metadata": {},
   "source": [
    "- Cuando K = 1, se dice que es underfitting ya que no adecua bien los datos, es decir, no puede modelar los datos de entrenamiento ni generalizar a nuevos datos, también se dice que es ineficiente para K = 1, podría ser una solución cambiar de modelo.\n"
   ]
  },
  {
   "cell_type": "markdown",
   "metadata": {},
   "source": [
    "- Nos debe importar la varianza ya que calcula que tan próximo esta un punto al objetivo, para casos repetitivos del modelo, no basta con minimizar el sesgo, como en el ejemplo que nos dio la lectura, necesitabamos mas datos y ver sus caracteristica para una mejor predicción - varianza - además hay tener mucho cuidado al disminuir el sesgo con la varianza para poder obtener prediciones eficientes, no siempre obtendremos esos resultados ya que en algunos casos, cuando modificas algún cambio en el sesgo o en la varianza puedes alterar la varianza o el sesgo respectativamente. "
   ]
  }
 ],
 "metadata": {
  "kernelspec": {
   "display_name": "Python 3",
   "language": "python",
   "name": "python3"
  },
  "language_info": {
   "codemirror_mode": {
    "name": "ipython",
    "version": 3
   },
   "file_extension": ".py",
   "mimetype": "text/x-python",
   "name": "python",
   "nbconvert_exporter": "python",
   "pygments_lexer": "ipython3",
   "version": "3.6.3"
  }
 },
 "nbformat": 4,
 "nbformat_minor": 2
}

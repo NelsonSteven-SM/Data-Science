{
 "cells": [
  {
   "cell_type": "markdown",
   "metadata": {},
   "source": [
    "### Tarea 3 del curso CM-072\n",
    "\n",
    "* Nombre y apellidos: Nelson Steven Sanabio Maldonado\n",
    "* Fecha de presentación: 27 de setiembre\n",
    "\n",
    "Esta tarea utiliza un pequeño subconjunto de los datos de la competencia de Kaggle  [Yelp Business Rating Prediction ](https://www.kaggle.com/c/yelp-recsys-2013).\n",
    "\n",
    "* Descripción de la data\n",
    "    - `yelp.json` es el formato original del archivo y `yelp.csv` contiene los mismos datos, en un formato más conveniente. Ambos archivos están en esta carpeta de la tarea, por lo que no es necesario descargar los datos del sitio web de Kaggle.\n"
   ]
  },
  {
   "cell_type": "markdown",
   "metadata": {},
   "source": [
    "## Preguntas\n",
    "\n",
    "1. Lee yelp.csv en un DataFrame."
   ]
  },
  {
   "cell_type": "code",
   "execution_count": 1,
   "metadata": {
    "collapsed": true
   },
   "outputs": [],
   "source": [
    "import pandas as pd\n",
    "datos = pd.read_csv(\"yelp.csv\")\n",
    "#datos.info()"
   ]
  },
  {
   "cell_type": "markdown",
   "metadata": {},
   "source": [
    "2. Crea un nuevo DataFrame que solo contenga las reseñas de 5 estrellas y 1 estrella."
   ]
  },
  {
   "cell_type": "code",
   "execution_count": 2,
   "metadata": {},
   "outputs": [
    {
     "data": {
      "text/html": [
       "<div>\n",
       "<style scoped>\n",
       "    .dataframe tbody tr th:only-of-type {\n",
       "        vertical-align: middle;\n",
       "    }\n",
       "\n",
       "    .dataframe tbody tr th {\n",
       "        vertical-align: top;\n",
       "    }\n",
       "\n",
       "    .dataframe thead th {\n",
       "        text-align: right;\n",
       "    }\n",
       "</style>\n",
       "<table border=\"1\" class=\"dataframe\">\n",
       "  <thead>\n",
       "    <tr style=\"text-align: right;\">\n",
       "      <th></th>\n",
       "      <th>business_id</th>\n",
       "      <th>date</th>\n",
       "      <th>review_id</th>\n",
       "      <th>stars</th>\n",
       "      <th>text</th>\n",
       "      <th>type</th>\n",
       "      <th>user_id</th>\n",
       "      <th>cool</th>\n",
       "      <th>useful</th>\n",
       "      <th>funny</th>\n",
       "    </tr>\n",
       "  </thead>\n",
       "  <tbody>\n",
       "    <tr>\n",
       "      <th>9050</th>\n",
       "      <td>jMxPbB_qhCONidfVsf3uBA</td>\n",
       "      <td>2011-01-22</td>\n",
       "      <td>iOhRbJFCSbU93M4w3h6Dqw</td>\n",
       "      <td>5</td>\n",
       "      <td>We love Dr Steve!</td>\n",
       "      <td>review</td>\n",
       "      <td>ZoiBl0VS-36RXokRTJPlSw</td>\n",
       "      <td>0</td>\n",
       "      <td>1</td>\n",
       "      <td>0</td>\n",
       "    </tr>\n",
       "    <tr>\n",
       "      <th>1449</th>\n",
       "      <td>NXsw4z0AtaILgS4-UxSWUg</td>\n",
       "      <td>2009-09-26</td>\n",
       "      <td>hWMsdIfX662k1b0ZSUKbLw</td>\n",
       "      <td>5</td>\n",
       "      <td>Hole-in-the-Rock is a cave-like natural rock f...</td>\n",
       "      <td>review</td>\n",
       "      <td>LMqKXdbwYdCqCCF64QbVkA</td>\n",
       "      <td>3</td>\n",
       "      <td>2</td>\n",
       "      <td>0</td>\n",
       "    </tr>\n",
       "    <tr>\n",
       "      <th>9188</th>\n",
       "      <td>1uFIjxwBRi8vGqc6vpNO9w</td>\n",
       "      <td>2010-03-23</td>\n",
       "      <td>Giqs3sVmwBdHuxIv6uPA2w</td>\n",
       "      <td>1</td>\n",
       "      <td>\"Fake\" (or rather condescending) service from ...</td>\n",
       "      <td>review</td>\n",
       "      <td>CP-IE-zyc2Mv3jlaceElVQ</td>\n",
       "      <td>0</td>\n",
       "      <td>3</td>\n",
       "      <td>2</td>\n",
       "    </tr>\n",
       "    <tr>\n",
       "      <th>1757</th>\n",
       "      <td>Zx8_4zKdDBSO3qGrkukBIA</td>\n",
       "      <td>2011-05-25</td>\n",
       "      <td>ATVM503VXnQlI9HdS360Zw</td>\n",
       "      <td>5</td>\n",
       "      <td>The food in this place is indescribably awesom...</td>\n",
       "      <td>review</td>\n",
       "      <td>GjHXd24vZbWJbYuWlwQbDw</td>\n",
       "      <td>0</td>\n",
       "      <td>1</td>\n",
       "      <td>0</td>\n",
       "    </tr>\n",
       "    <tr>\n",
       "      <th>2887</th>\n",
       "      <td>GRFunGSUZxXqNCZJrN8Oow</td>\n",
       "      <td>2011-10-19</td>\n",
       "      <td>axDHHOtVjvznMl1OnKLUng</td>\n",
       "      <td>5</td>\n",
       "      <td>Mill Ave has been missing a good breakfast noo...</td>\n",
       "      <td>review</td>\n",
       "      <td>PDRWbCZa92irf8mK5X_Kig</td>\n",
       "      <td>0</td>\n",
       "      <td>0</td>\n",
       "      <td>0</td>\n",
       "    </tr>\n",
       "  </tbody>\n",
       "</table>\n",
       "</div>"
      ],
      "text/plain": [
       "                 business_id        date               review_id  stars  \\\n",
       "9050  jMxPbB_qhCONidfVsf3uBA  2011-01-22  iOhRbJFCSbU93M4w3h6Dqw      5   \n",
       "1449  NXsw4z0AtaILgS4-UxSWUg  2009-09-26  hWMsdIfX662k1b0ZSUKbLw      5   \n",
       "9188  1uFIjxwBRi8vGqc6vpNO9w  2010-03-23  Giqs3sVmwBdHuxIv6uPA2w      1   \n",
       "1757  Zx8_4zKdDBSO3qGrkukBIA  2011-05-25  ATVM503VXnQlI9HdS360Zw      5   \n",
       "2887  GRFunGSUZxXqNCZJrN8Oow  2011-10-19  axDHHOtVjvznMl1OnKLUng      5   \n",
       "\n",
       "                                                   text    type  \\\n",
       "9050                                  We love Dr Steve!  review   \n",
       "1449  Hole-in-the-Rock is a cave-like natural rock f...  review   \n",
       "9188  \"Fake\" (or rather condescending) service from ...  review   \n",
       "1757  The food in this place is indescribably awesom...  review   \n",
       "2887  Mill Ave has been missing a good breakfast noo...  review   \n",
       "\n",
       "                     user_id  cool  useful  funny  \n",
       "9050  ZoiBl0VS-36RXokRTJPlSw     0       1      0  \n",
       "1449  LMqKXdbwYdCqCCF64QbVkA     3       2      0  \n",
       "9188  CP-IE-zyc2Mv3jlaceElVQ     0       3      2  \n",
       "1757  GjHXd24vZbWJbYuWlwQbDw     0       1      0  \n",
       "2887  PDRWbCZa92irf8mK5X_Kig     0       0      0  "
      ]
     },
     "execution_count": 2,
     "metadata": {},
     "output_type": "execute_result"
    }
   ],
   "source": [
    "import numpy as np\n",
    "Nuevo_df = datos.loc[(datos['stars']==1) | (datos['stars']==5)]\n",
    "#Nuevo_df.head()\n",
    "Nuevo_df.sample(n=5)"
   ]
  },
  {
   "cell_type": "markdown",
   "metadata": {},
   "source": [
    "3. Divide el nuevo DataFrame en conjuntos de entrenamiento y prueba, usando el texto de revisión como la única característica y la calificación de estrellas como respuesta."
   ]
  },
  {
   "cell_type": "code",
   "execution_count": 3,
   "metadata": {
    "collapsed": true
   },
   "outputs": [],
   "source": [
    "from sklearn.model_selection import train_test_split\n",
    "X_train,X_test,y_train,y_test = train_test_split(datos.text,datos.stars,random_state=70)"
   ]
  },
  {
   "cell_type": "markdown",
   "metadata": {},
   "source": [
    "4. Usa `CountVectorizer` para crear [matrices de términos de documentos](https://en.wikipedia.org/wiki/Document-term_matrix) de `X_entrenamiento` y `X_prueba`.\n"
   ]
  },
  {
   "cell_type": "code",
   "execution_count": 4,
   "metadata": {
    "collapsed": true
   },
   "outputs": [],
   "source": [
    "from sklearn.feature_extraction.text import CountVectorizer\n",
    "vectorizer = CountVectorizer()\n",
    "X_train_matriz = vectorizer.fit_transform(X_train)\n",
    "X_test_matriz = vectorizer.transform(X_test)\n",
    "#log_reg.fit(X_train, y_train)"
   ]
  },
  {
   "cell_type": "markdown",
   "metadata": {},
   "source": [
    "5. Usa Naive Bayes para predecir la calificación de estrellas para las revisiones en el conjunto de prueba y calcula la precisión."
   ]
  },
  {
   "cell_type": "code",
   "execution_count": 5,
   "metadata": {},
   "outputs": [
    {
     "name": "stdout",
     "output_type": "stream",
     "text": [
      "Precisión :  0.4756\n"
     ]
    }
   ],
   "source": [
    "from sklearn.naive_bayes import MultinomialNB\n",
    "from sklearn import metrics\n",
    "from sklearn.metrics import accuracy_score\n",
    "Naives = MultinomialNB()\n",
    "Naives.fit(X_train_matriz,y_train)\n",
    "predict_test=Naives.predict(X_test_matriz)\n",
    "#Calculando la Precisión\n",
    "print(\"Precisión : \",accuracy_score(y_test, predict_test))"
   ]
  },
  {
   "cell_type": "markdown",
   "metadata": {},
   "source": [
    "6. Calcula el AUC."
   ]
  },
  {
   "cell_type": "code",
   "execution_count": 6,
   "metadata": {},
   "outputs": [
    {
     "name": "stdout",
     "output_type": "stream",
     "text": [
      "ROC AUC score:  0.7485960040771247\n"
     ]
    }
   ],
   "source": [
    "#roc_auc_score, se usa para clasificación binaria y también en multiclase con la etiqueta indicador\n",
    "import numpy as np\n",
    "from sklearn.metrics import roc_auc_score\n",
    "# Para poder usar el roc_auc_score debemos convertir el y_test en binario \n",
    "bin_y = np.floor(y_test/5)\n",
    "predi = Naives.predict_proba(X_test_matriz)[:,4]\n",
    "print(\"ROC AUC score: \", roc_auc_score(bin_y, predi))"
   ]
  },
  {
   "cell_type": "markdown",
   "metadata": {},
   "source": [
    "7. Dibuja la curva ROC."
   ]
  },
  {
   "cell_type": "code",
   "execution_count": 7,
   "metadata": {},
   "outputs": [
    {
     "data": {
      "image/png": "[encoded data removed]",
      "text/plain": [
       "<Figure size 432x288 with 1 Axes>"
      ]
     },
     "metadata": {},
     "output_type": "display_data"
    }
   ],
   "source": [
    "# Tu solucion\n",
    "import matplotlib.pyplot as plt\n",
    "from sklearn.metrics import roc_curve\n",
    "\n",
    "%matplotlib inline\n",
    "\n",
    "fpr, tpr, _ = roc_curve(bin_y, predi)\n",
    "plt.plot(fpr, tpr)\n",
    "plt.show()\n",
    "\n",
    "#nos permite seleccionar los modelos posiblemente óptimos y descartar modelos subóptimos independientemente"
   ]
  },
  {
   "cell_type": "markdown",
   "metadata": {},
   "source": [
    "8. Imprime la matriz de confusión y calcule la sensibilidad y especificidad. Comenta tus resultados."
   ]
  },
  {
   "cell_type": "code",
   "execution_count": 8,
   "metadata": {},
   "outputs": [
    {
     "name": "stdout",
     "output_type": "stream",
     "text": [
      "Matriz de confusion:\n",
      " [[ 57  26  17  54  29]\n",
      " [ 21  15  33 124  21]\n",
      " [  5   7  32 274  34]\n",
      " [  7   2  16 648 220]\n",
      " [  3   4   4 410 437]]\n",
      "Sensibilidad: 0.4166666666666667\n",
      "Especificidad: 0.6867469879518072\n"
     ]
    }
   ],
   "source": [
    "from sklearn.metrics import confusion_matrix\n",
    "predi = Naives.predict(X_test_matriz)\n",
    "\n",
    "# Matriz de confusion\n",
    "matrix_confusion = confusion_matrix(y_test, predi)\n",
    "print(\"Matriz de confusion:\\n\", matrix_confusion)\n",
    "print(\"Sensibilidad:\", matrix_confusion[1,1]/(matrix_confusion[1,0] + matrix_confusion[1,1]))\n",
    "print(\"Especificidad:\", matrix_confusion[0,0]/(matrix_confusion[0,0] + matrix_confusion[0,1]))"
   ]
  },
  {
   "cell_type": "markdown",
   "metadata": {},
   "source": [
    "9. (Obligatorio) Examina el texto de la revisión para ver algunos de los falsos positivos y falsos negativos. Según tu conocimiento de cómo funciona Naive Bayes, ¿tienes alguna teoría sobre por qué el modelo clasifica incorrectamente estas evaluaciones?."
   ]
  },
  {
   "cell_type": "code",
   "execution_count": null,
   "metadata": {
    "collapsed": true
   },
   "outputs": [],
   "source": []
  },
  {
   "cell_type": "markdown",
   "metadata": {},
   "source": [
    "10. Imaginemos que deseas equilibrar la sensibilidad y la especificidad. Puedes lograr esto cambiando el umbral para predecir una revisión de 5 estrellas. ¿Qué umbral equilibra aproximadamente la sensibilidad y la especificidad?.\n",
    "\n",
    "Sugerencia: Leer-->[Classification vs. Prediction](http://www.fharrell.com/post/classification/)."
   ]
  },
  {
   "cell_type": "code",
   "execution_count": null,
   "metadata": {},
   "outputs": [],
   "source": []
  },
  {
   "cell_type": "markdown",
   "metadata": {},
   "source": [
    "11. (Obligatorio) Veamos qué tan bien se comporta Naive Bayes cuando se incluyen todas las revisiones, en lugar de solo reseñas de 1 estrella y 5 estrellas:\n",
    "\n",
    "    * Define X e y usando el DataFrame original del paso 1 (debe contener 5 clases diferentes).\n",
    "    * Divide los datos en conjuntos de entrenamiento y prueba.\n",
    "    * Calcula la precisión de prueba de un modelo de Naive Bayes.\n",
    "    * Compara la precisión de la prueba con la precisión nula.\n",
    "    * Muestra la matriz de confusión.\n",
    "    * Comenta los resultados."
   ]
  },
  {
   "cell_type": "code",
   "execution_count": null,
   "metadata": {
    "collapsed": true
   },
   "outputs": [],
   "source": []
  },
  {
   "cell_type": "markdown",
   "metadata": {},
   "source": [
    "12. (Obligatorio) Lee el siguiente artículo de Paul Graham: [A Plan for Spam](http://www.paulgraham.com/spam.html) y responde las siguientes preguntas:\n",
    "\n",
    "    * ¿Debería un filtro de spam optimizar la sensibilidad o la especificidad, en opinión de Graham?.\n",
    "    * Antes de probar el \"enfoque estadístico\" para el filtrado de spam, ¿cuál era su enfoque?.\n",
    "    * ¿Cuáles son los componentes clave de su sistema de filtrado estadístico? En otras palabras, ¿cómo funciona?.\n",
    "    * ¿Qué menciona Graham sobre los beneficios del enfoque estadístico?.\n",
    "    * ¿Qué tan bueno fue su predicción del \"spam del futuro\"?. "
   ]
  },
  {
   "cell_type": "code",
   "execution_count": 185,
   "metadata": {
    "collapsed": true
   },
   "outputs": [],
   "source": [
    "# Tus respuestas"
   ]
  },
  {
   "cell_type": "code",
   "execution_count": null,
   "metadata": {
    "collapsed": true
   },
   "outputs": [],
   "source": []
  }
 ],
 "metadata": {
  "kernelspec": {
   "display_name": "Python 3",
   "language": "python",
   "name": "python3"
  },
  "language_info": {
   "codemirror_mode": {
    "name": "ipython",
    "version": 3
   },
   "file_extension": ".py",
   "mimetype": "text/x-python",
   "name": "python",
   "nbconvert_exporter": "python",
   "pygments_lexer": "ipython3",
   "version": "3.6.3"
  }
 },
 "nbformat": 4,
 "nbformat_minor": 2
}
